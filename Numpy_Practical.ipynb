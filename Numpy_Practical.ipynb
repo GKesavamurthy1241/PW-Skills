{
  "nbformat": 4,
  "nbformat_minor": 0,
  "metadata": {
    "colab": {
      "provenance": []
    },
    "kernelspec": {
      "name": "python3",
      "display_name": "Python 3"
    },
    "language_info": {
      "name": "python"
    }
  },
  "cells": [
    {
      "cell_type": "markdown",
      "source": [
        "**1. Create a 3x3 NumPy array with random integers between 1 and 100. Then, interchange its rows and columns.**"
      ],
      "metadata": {
        "id": "AX7sKEPVnGl1"
      }
    },
    {
      "cell_type": "code",
      "execution_count": 1,
      "metadata": {
        "colab": {
          "base_uri": "https://localhost:8080/",
          "height": 0
        },
        "id": "W4h7gfk0m8iv",
        "outputId": "7de36a7c-de6f-40ef-ac5a-bcee20468fb9"
      },
      "outputs": [
        {
          "output_type": "stream",
          "name": "stdout",
          "text": [
            "Original Array:\n",
            "[[73 47 56]\n",
            " [ 8 12 59]\n",
            " [15 31 85]]\n",
            "\n",
            "Transposed Array:\n",
            "[[73  8 15]\n",
            " [47 12 31]\n",
            " [56 59 85]]\n"
          ]
        }
      ],
      "source": [
        "import numpy as np\n",
        "array = np.random.randint(1, 101, size=(3, 3))\n",
        "transposed_array = np.transpose(array)\n",
        "print(\"Original Array:\")\n",
        "print(array)\n",
        "print(\"\\nTransposed Array:\")\n",
        "print(transposed_array)"
      ]
    },
    {
      "cell_type": "markdown",
      "source": [
        "**2. Generate a 1D NumPy array with 10 elements. Reshape it into a 2x5 array, then into a 5x2 array.**"
      ],
      "metadata": {
        "id": "Qwi8QUSVnbT6"
      }
    },
    {
      "cell_type": "code",
      "source": [
        "import numpy as np\n",
        "array_1d = np.arange(10)\n",
        "array_2x5 = array_1d.reshape(2, 5)\n",
        "array_5x2 = array_1d.reshape(5, 2)\n",
        "print(\"1D Array:\")\n",
        "print(array_1d)\n",
        "print(\"\\n2x5 Array:\")\n",
        "print(array_2x5)\n",
        "print(\"\\n5x2 Array:\")\n",
        "print(array_5x2)"
      ],
      "metadata": {
        "colab": {
          "base_uri": "https://localhost:8080/",
          "height": 0
        },
        "id": "KHzHHuuenhEe",
        "outputId": "93e383dd-14e8-4eee-aee7-b020a3618d5d"
      },
      "execution_count": 2,
      "outputs": [
        {
          "output_type": "stream",
          "name": "stdout",
          "text": [
            "1D Array:\n",
            "[0 1 2 3 4 5 6 7 8 9]\n",
            "\n",
            "2x5 Array:\n",
            "[[0 1 2 3 4]\n",
            " [5 6 7 8 9]]\n",
            "\n",
            "5x2 Array:\n",
            "[[0 1]\n",
            " [2 3]\n",
            " [4 5]\n",
            " [6 7]\n",
            " [8 9]]\n"
          ]
        }
      ]
    },
    {
      "cell_type": "markdown",
      "source": [
        "**3. Create a 4x4 NumPy array with random float values. Add a border of zeros around it, resulting in a 6x6 array.**"
      ],
      "metadata": {
        "id": "Ph38lGv4nmsc"
      }
    },
    {
      "cell_type": "code",
      "source": [
        "import numpy as np\n",
        "array_4x4 = np.random.rand(4, 4)\n",
        "array_with_border = np.pad(array_4x4, pad_width=1, mode='constant', constant_values=0)\n",
        "print(\"Original 4x4 Array:\")\n",
        "print(array_4x4)\n",
        "print(\"\\n6x6 Array with Zero Border:\")\n",
        "print(array_with_border)"
      ],
      "metadata": {
        "colab": {
          "base_uri": "https://localhost:8080/",
          "height": 0
        },
        "id": "9vf0kk0Snqe5",
        "outputId": "49af0d5e-bef4-41f6-e3b3-05f14ab49491"
      },
      "execution_count": 3,
      "outputs": [
        {
          "output_type": "stream",
          "name": "stdout",
          "text": [
            "Original 4x4 Array:\n",
            "[[0.84726949 0.56056465 0.93332467 0.62915941]\n",
            " [0.54536802 0.92412021 0.42466095 0.71712906]\n",
            " [0.71655792 0.80121142 0.52517814 0.4829732 ]\n",
            " [0.87595794 0.75711716 0.01849683 0.14718864]]\n",
            "\n",
            "6x6 Array with Zero Border:\n",
            "[[0.         0.         0.         0.         0.         0.        ]\n",
            " [0.         0.84726949 0.56056465 0.93332467 0.62915941 0.        ]\n",
            " [0.         0.54536802 0.92412021 0.42466095 0.71712906 0.        ]\n",
            " [0.         0.71655792 0.80121142 0.52517814 0.4829732  0.        ]\n",
            " [0.         0.87595794 0.75711716 0.01849683 0.14718864 0.        ]\n",
            " [0.         0.         0.         0.         0.         0.        ]]\n"
          ]
        }
      ]
    },
    {
      "cell_type": "markdown",
      "source": [
        "**4. Using NumPy, create an array of integers from 10 to 60 with a step of 5**"
      ],
      "metadata": {
        "id": "HuUIYzsxn2F0"
      }
    },
    {
      "cell_type": "code",
      "source": [
        "import numpy as np\n",
        "array_integers = np.arange(10, 61, 5)\n",
        "print(array_integers)"
      ],
      "metadata": {
        "colab": {
          "base_uri": "https://localhost:8080/",
          "height": 0
        },
        "id": "iDqq1gPin62i",
        "outputId": "5f562e08-ae6a-4a30-8563-a276385feb92"
      },
      "execution_count": 4,
      "outputs": [
        {
          "output_type": "stream",
          "name": "stdout",
          "text": [
            "[10 15 20 25 30 35 40 45 50 55 60]\n"
          ]
        }
      ]
    },
    {
      "cell_type": "markdown",
      "source": [
        "**5. Create a NumPy array of strings ['python', 'numpy', 'pandas']. Apply different case transformations\n",
        "(uppercase, lowercase, title case, etc.) to each element.**"
      ],
      "metadata": {
        "id": "VwpaplxYoDga"
      }
    },
    {
      "cell_type": "code",
      "source": [
        "import numpy as np\n",
        "array_strings = np.array(['python', 'numpy', 'pandas'])\n",
        "uppercase_array = np.char.upper(array_strings)\n",
        "lowercase_array = np.char.lower(array_strings)\n",
        "titlecase_array = np.char.title(array_strings)\n",
        "capitalize_array = np.char.capitalize(array_strings)\n",
        "print(\"Original Array:\")\n",
        "print(array_strings)\n",
        "print(\"\\nUppercase Array:\")\n",
        "print(uppercase_array)\n",
        "print(\"\\nLowercase Array:\")\n",
        "print(lowercase_array)\n",
        "print(\"\\nTitlecase Array:\")\n",
        "print(titlecase_array)\n",
        "print(\"\\nCapitalize Array:\")\n",
        "print(capitalize_array)"
      ],
      "metadata": {
        "colab": {
          "base_uri": "https://localhost:8080/",
          "height": 0
        },
        "id": "kh9XkJkWoIaQ",
        "outputId": "df219f57-76bc-4d4a-c367-e253bfec727f"
      },
      "execution_count": 5,
      "outputs": [
        {
          "output_type": "stream",
          "name": "stdout",
          "text": [
            "Original Array:\n",
            "['python' 'numpy' 'pandas']\n",
            "\n",
            "Uppercase Array:\n",
            "['PYTHON' 'NUMPY' 'PANDAS']\n",
            "\n",
            "Lowercase Array:\n",
            "['python' 'numpy' 'pandas']\n",
            "\n",
            "Titlecase Array:\n",
            "['Python' 'Numpy' 'Pandas']\n",
            "\n",
            "Capitalize Array:\n",
            "['Python' 'Numpy' 'Pandas']\n"
          ]
        }
      ]
    },
    {
      "cell_type": "markdown",
      "source": [
        "**6. Generate a NumPy array of words. Insert a space between each character of every word in the array.**"
      ],
      "metadata": {
        "id": "G--Vo-OHoVU-"
      }
    },
    {
      "cell_type": "code",
      "source": [
        "import numpy as np\n",
        "array_words = np.array(['hello', 'world', 'numpy', 'python'])\n",
        "spaced_array = np.char.join(' ', array_words)\n",
        "print(\"Original Array:\")\n",
        "print(array_words)\n",
        "print(\"\\nArray with Spaces:\")\n",
        "print(spaced_array)"
      ],
      "metadata": {
        "colab": {
          "base_uri": "https://localhost:8080/",
          "height": 0
        },
        "id": "0S4R6CZ0oZHp",
        "outputId": "f1bea7fa-9dd8-40d7-aee9-0c90d44e0903"
      },
      "execution_count": 6,
      "outputs": [
        {
          "output_type": "stream",
          "name": "stdout",
          "text": [
            "Original Array:\n",
            "['hello' 'world' 'numpy' 'python']\n",
            "\n",
            "Array with Spaces:\n",
            "['h e l l o' 'w o r l d' 'n u m p y' 'p y t h o n']\n"
          ]
        }
      ]
    },
    {
      "cell_type": "markdown",
      "source": [
        "**7. Create two 2D NumPy arrays and perform element-wise addition, subtraction, multiplication, and division.**"
      ],
      "metadata": {
        "id": "wb4XSAE-ohgs"
      }
    },
    {
      "cell_type": "code",
      "source": [
        "import numpy as np\n",
        "array1 = np.array([[1, 2], [3, 4]])\n",
        "array2 = np.array([[5, 6], [7, 8]])\n",
        "addition_result = array1 + array2\n",
        "subtraction_result = array1 - array2\n",
        "multiplication_result = array1 * array2\n",
        "division_result = array1 / array2\n",
        "print(\"Array 1:\")\n",
        "print(array1)\n",
        "print(\"\\nArray 2:\")\n",
        "print(array2)\n",
        "print(\"\\nElement-wise Addition:\")\n",
        "print(addition_result)\n",
        "print(\"\\nElement-wise Subtraction:\")\n",
        "print(subtraction_result)\n",
        "print(\"\\nElement-wise Multiplication:\")\n",
        "print(multiplication_result)\n",
        "print(\"\\nElement-wise Division:\")\n",
        "print(division_result)"
      ],
      "metadata": {
        "colab": {
          "base_uri": "https://localhost:8080/",
          "height": 0
        },
        "id": "wQBB-LQMonA6",
        "outputId": "c009df7d-e35f-49e7-f0a8-0c69388ab25f"
      },
      "execution_count": 7,
      "outputs": [
        {
          "output_type": "stream",
          "name": "stdout",
          "text": [
            "Array 1:\n",
            "[[1 2]\n",
            " [3 4]]\n",
            "\n",
            "Array 2:\n",
            "[[5 6]\n",
            " [7 8]]\n",
            "\n",
            "Element-wise Addition:\n",
            "[[ 6  8]\n",
            " [10 12]]\n",
            "\n",
            "Element-wise Subtraction:\n",
            "[[-4 -4]\n",
            " [-4 -4]]\n",
            "\n",
            "Element-wise Multiplication:\n",
            "[[ 5 12]\n",
            " [21 32]]\n",
            "\n",
            "Element-wise Division:\n",
            "[[0.2        0.33333333]\n",
            " [0.42857143 0.5       ]]\n"
          ]
        }
      ]
    },
    {
      "cell_type": "markdown",
      "source": [
        "**8. Use NumPy to create a 5x5 identity matrix, then extract its diagonal elements.**"
      ],
      "metadata": {
        "id": "n8OVij2Zo04J"
      }
    },
    {
      "cell_type": "code",
      "source": [
        "identity_matrix = np.eye(5)\n",
        "diagonal_elements = np.diag(identity_matrix)\n",
        "identity_matrix, diagonal_elements"
      ],
      "metadata": {
        "colab": {
          "base_uri": "https://localhost:8080/",
          "height": 0
        },
        "id": "HAP2MHSHo47g",
        "outputId": "1fb5fe1a-98ac-4119-f0cf-948405031bc9"
      },
      "execution_count": 8,
      "outputs": [
        {
          "output_type": "execute_result",
          "data": {
            "text/plain": [
              "(array([[1., 0., 0., 0., 0.],\n",
              "        [0., 1., 0., 0., 0.],\n",
              "        [0., 0., 1., 0., 0.],\n",
              "        [0., 0., 0., 1., 0.],\n",
              "        [0., 0., 0., 0., 1.]]),\n",
              " array([1., 1., 1., 1., 1.]))"
            ]
          },
          "metadata": {},
          "execution_count": 8
        }
      ]
    },
    {
      "cell_type": "markdown",
      "source": [
        "**9. Generate a NumPy array of 100 random integers between 0 and 1000. Find and display all prime numbers in\n",
        "this array.**"
      ],
      "metadata": {
        "id": "R_JuXwHhpCnM"
      }
    },
    {
      "cell_type": "code",
      "source": [
        "import numpy as np\n",
        "def is_prime(num):\n",
        "    if num < 2:\n",
        "        return False\n",
        "    for i in range(2, int(num**0.5) + 1):\n",
        "        if num % i == 0:\n",
        "            return False\n",
        "    return np.True_\n",
        "random_integers = np.random.randint(0, 1001, size=100)\n",
        "prime_numbers = [num for num in random_integers if is_prime(num)]\n",
        "print(\"Random Integers:\")\n",
        "print(random_integers)\n",
        "print(\"\\nPrime Numbers:\")\n",
        "print(prime_numbers)"
      ],
      "metadata": {
        "colab": {
          "base_uri": "https://localhost:8080/",
          "height": 0
        },
        "id": "Qv4sVH24pFsk",
        "outputId": "eb4f116e-c396-4567-c888-04095121117d"
      },
      "execution_count": 9,
      "outputs": [
        {
          "output_type": "stream",
          "name": "stdout",
          "text": [
            "Random Integers:\n",
            "[370 204 683 855 805 936 378 274 671 998 836 525 452 819 862 554 718 647\n",
            " 393 469 513 102 409 875 195 117   4 609 396  63 637 436 506 210 945 683\n",
            " 632 120 355 437 712 748 458 760 620 472 388 722 909 797 636 774 855 493\n",
            "  64 227 473 286 313 811 147 269 284 896 360 501 987 983 974 344 319  62\n",
            " 624 574  71 679 904 603 294 756 932 902 433 911  49 331 236 208 610  87\n",
            " 738 471 118  64 164 502   6 303 495 800]\n",
            "\n",
            "Prime Numbers:\n",
            "[683, 647, 409, 683, 797, 227, 313, 811, 269, 983, 71, 433, 911, 331]\n"
          ]
        }
      ]
    },
    {
      "cell_type": "markdown",
      "source": [
        "**10. Create a NumPy array representing daily temperatures for a month. Calculate and display the weekly\n",
        "averages.**"
      ],
      "metadata": {
        "id": "-D3N5tNvpO55"
      }
    },
    {
      "cell_type": "code",
      "source": [
        "import numpy as np\n",
        "daily_temperatures = np.random.uniform(low=15.0, high=35.0, size=30)\n",
        "weekly_temperatures = np.array_split(daily_temperatures, 4)\n",
        "weekly_averages = [np.mean(week) for week in weekly_temperatures]\n",
        "print(\"Daily Temperatures for the Month:\")\n",
        "print(daily_temperatures)\n",
        "print(\"\\nWeekly Averages:\")\n",
        "print(weekly_averages)"
      ],
      "metadata": {
        "colab": {
          "base_uri": "https://localhost:8080/",
          "height": 0
        },
        "id": "sWrJVCzcpWLk",
        "outputId": "08b0bddd-b963-45c8-cf05-393398cd4e33"
      },
      "execution_count": 12,
      "outputs": [
        {
          "output_type": "stream",
          "name": "stdout",
          "text": [
            "Daily Temperatures for the Month:\n",
            "[25.25885443 17.69669672 19.87532371 28.19857238 32.80514552 22.5257735\n",
            " 29.93233664 23.91573553 18.44102915 17.99065034 28.86370491 20.17975289\n",
            " 33.80193658 15.76810805 28.13621458 20.26955441 32.94950833 17.46932944\n",
            " 29.30578676 29.60252258 21.03434262 23.93912846 15.715273   20.28627716\n",
            " 29.02678499 22.50334811 16.38151985 33.71609429 21.60429469 21.55886505]\n",
            "\n",
            "Weekly Averages:\n",
            "[25.026054802953354, 22.93136886338164, 24.28798445632553, 23.582454877807585]\n"
          ]
        }
      ]
    }
  ]
}